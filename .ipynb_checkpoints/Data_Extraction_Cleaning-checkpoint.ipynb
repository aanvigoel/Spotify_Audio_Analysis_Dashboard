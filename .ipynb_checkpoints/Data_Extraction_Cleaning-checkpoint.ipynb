{
 "cells": [
  {
   "cell_type": "code",
   "execution_count": 1,
   "id": "7436cb5a",
   "metadata": {},
   "outputs": [],
   "source": [
    "import extract_data as ed\n",
    "import pandas as pd\n",
    "import matplotlib.pyplot as plt\n",
    "import pickle as pkl\n",
    "\n"
   ]
  },
  {
   "cell_type": "markdown",
   "id": "1adf547f",
   "metadata": {},
   "source": [
    "### Data Extraction+Cleaning"
   ]
  },
  {
   "cell_type": "code",
   "execution_count": 2,
   "id": "7e717215",
   "metadata": {},
   "outputs": [],
   "source": [
    "data_df =ed.load_data()\n",
    "\n"
   ]
  },
  {
   "cell_type": "code",
   "execution_count": 3,
   "id": "46abecf5",
   "metadata": {
    "scrolled": true
   },
   "outputs": [
    {
     "data": {
      "text/html": [
       "<div>\n",
       "<style scoped>\n",
       "    .dataframe tbody tr th:only-of-type {\n",
       "        vertical-align: middle;\n",
       "    }\n",
       "\n",
       "    .dataframe tbody tr th {\n",
       "        vertical-align: top;\n",
       "    }\n",
       "\n",
       "    .dataframe thead th {\n",
       "        text-align: right;\n",
       "    }\n",
       "</style>\n",
       "<table border=\"1\" class=\"dataframe\">\n",
       "  <thead>\n",
       "    <tr style=\"text-align: right;\">\n",
       "      <th></th>\n",
       "      <th>id</th>\n",
       "      <th>name</th>\n",
       "      <th>album</th>\n",
       "      <th>album_id</th>\n",
       "      <th>artists</th>\n",
       "      <th>artist_ids</th>\n",
       "      <th>track_number</th>\n",
       "      <th>disc_number</th>\n",
       "      <th>explicit</th>\n",
       "      <th>danceability</th>\n",
       "      <th>...</th>\n",
       "      <th>speechiness</th>\n",
       "      <th>acousticness</th>\n",
       "      <th>instrumentalness</th>\n",
       "      <th>liveness</th>\n",
       "      <th>valence</th>\n",
       "      <th>tempo</th>\n",
       "      <th>duration_ms</th>\n",
       "      <th>time_signature</th>\n",
       "      <th>year</th>\n",
       "      <th>release_date</th>\n",
       "    </tr>\n",
       "  </thead>\n",
       "  <tbody>\n",
       "    <tr>\n",
       "      <th>0</th>\n",
       "      <td>4llunZfVXv3NvUzXVB3VVL</td>\n",
       "      <td>Maria</td>\n",
       "      <td>The Battle Of Los Angeles</td>\n",
       "      <td>2eia0myWFgoHuttJytCxgX</td>\n",
       "      <td>['Rage Against The Machine']</td>\n",
       "      <td>['2d0hyoQ5ynDBnkvAbJKORj']</td>\n",
       "      <td>8</td>\n",
       "      <td>1</td>\n",
       "      <td>False</td>\n",
       "      <td>0.277</td>\n",
       "      <td>...</td>\n",
       "      <td>0.0883</td>\n",
       "      <td>0.00694</td>\n",
       "      <td>0.000054</td>\n",
       "      <td>0.1880</td>\n",
       "      <td>0.618</td>\n",
       "      <td>172.848</td>\n",
       "      <td>228093</td>\n",
       "      <td>4.0</td>\n",
       "      <td>1999</td>\n",
       "      <td>1999-11-02</td>\n",
       "    </tr>\n",
       "    <tr>\n",
       "      <th>1</th>\n",
       "      <td>21Mq0NzFoVRvOmLTOnJjng</td>\n",
       "      <td>Voice of the Voiceless</td>\n",
       "      <td>The Battle Of Los Angeles</td>\n",
       "      <td>2eia0myWFgoHuttJytCxgX</td>\n",
       "      <td>['Rage Against The Machine']</td>\n",
       "      <td>['2d0hyoQ5ynDBnkvAbJKORj']</td>\n",
       "      <td>9</td>\n",
       "      <td>1</td>\n",
       "      <td>False</td>\n",
       "      <td>0.441</td>\n",
       "      <td>...</td>\n",
       "      <td>0.0440</td>\n",
       "      <td>0.01950</td>\n",
       "      <td>0.006840</td>\n",
       "      <td>0.1500</td>\n",
       "      <td>0.418</td>\n",
       "      <td>83.371</td>\n",
       "      <td>151573</td>\n",
       "      <td>4.0</td>\n",
       "      <td>1999</td>\n",
       "      <td>1999-11-02</td>\n",
       "    </tr>\n",
       "    <tr>\n",
       "      <th>2</th>\n",
       "      <td>2LXPNLSMAauNJfnC58lSqY</td>\n",
       "      <td>Born of a Broken Man</td>\n",
       "      <td>The Battle Of Los Angeles</td>\n",
       "      <td>2eia0myWFgoHuttJytCxgX</td>\n",
       "      <td>['Rage Against The Machine']</td>\n",
       "      <td>['2d0hyoQ5ynDBnkvAbJKORj']</td>\n",
       "      <td>6</td>\n",
       "      <td>1</td>\n",
       "      <td>False</td>\n",
       "      <td>0.298</td>\n",
       "      <td>...</td>\n",
       "      <td>0.0727</td>\n",
       "      <td>0.05380</td>\n",
       "      <td>0.001520</td>\n",
       "      <td>0.2010</td>\n",
       "      <td>0.194</td>\n",
       "      <td>148.282</td>\n",
       "      <td>280960</td>\n",
       "      <td>4.0</td>\n",
       "      <td>1999</td>\n",
       "      <td>1999-11-02</td>\n",
       "    </tr>\n",
       "    <tr>\n",
       "      <th>3</th>\n",
       "      <td>7o2Razxnl33Jrgz4PpMYNa</td>\n",
       "      <td>Ashes In the Fall</td>\n",
       "      <td>The Battle Of Los Angeles</td>\n",
       "      <td>2eia0myWFgoHuttJytCxgX</td>\n",
       "      <td>['Rage Against The Machine']</td>\n",
       "      <td>['2d0hyoQ5ynDBnkvAbJKORj']</td>\n",
       "      <td>11</td>\n",
       "      <td>1</td>\n",
       "      <td>True</td>\n",
       "      <td>0.456</td>\n",
       "      <td>...</td>\n",
       "      <td>0.0982</td>\n",
       "      <td>0.00520</td>\n",
       "      <td>0.000004</td>\n",
       "      <td>0.0595</td>\n",
       "      <td>0.656</td>\n",
       "      <td>140.629</td>\n",
       "      <td>277267</td>\n",
       "      <td>4.0</td>\n",
       "      <td>1999</td>\n",
       "      <td>1999-11-02</td>\n",
       "    </tr>\n",
       "    <tr>\n",
       "      <th>4</th>\n",
       "      <td>3Hxu3Ey1TV9mZ5XqMXckiS</td>\n",
       "      <td>War Within a Breath</td>\n",
       "      <td>The Battle Of Los Angeles</td>\n",
       "      <td>2eia0myWFgoHuttJytCxgX</td>\n",
       "      <td>['Rage Against The Machine']</td>\n",
       "      <td>['2d0hyoQ5ynDBnkvAbJKORj']</td>\n",
       "      <td>12</td>\n",
       "      <td>1</td>\n",
       "      <td>False</td>\n",
       "      <td>0.399</td>\n",
       "      <td>...</td>\n",
       "      <td>0.1430</td>\n",
       "      <td>0.00442</td>\n",
       "      <td>0.031400</td>\n",
       "      <td>0.3670</td>\n",
       "      <td>0.174</td>\n",
       "      <td>98.464</td>\n",
       "      <td>216427</td>\n",
       "      <td>4.0</td>\n",
       "      <td>1999</td>\n",
       "      <td>1999-11-02</td>\n",
       "    </tr>\n",
       "  </tbody>\n",
       "</table>\n",
       "<p>5 rows × 24 columns</p>\n",
       "</div>"
      ],
      "text/plain": [
       "                       id                    name                      album  \\\n",
       "0  4llunZfVXv3NvUzXVB3VVL                   Maria  The Battle Of Los Angeles   \n",
       "1  21Mq0NzFoVRvOmLTOnJjng  Voice of the Voiceless  The Battle Of Los Angeles   \n",
       "2  2LXPNLSMAauNJfnC58lSqY    Born of a Broken Man  The Battle Of Los Angeles   \n",
       "3  7o2Razxnl33Jrgz4PpMYNa       Ashes In the Fall  The Battle Of Los Angeles   \n",
       "4  3Hxu3Ey1TV9mZ5XqMXckiS     War Within a Breath  The Battle Of Los Angeles   \n",
       "\n",
       "                 album_id                       artists  \\\n",
       "0  2eia0myWFgoHuttJytCxgX  ['Rage Against The Machine']   \n",
       "1  2eia0myWFgoHuttJytCxgX  ['Rage Against The Machine']   \n",
       "2  2eia0myWFgoHuttJytCxgX  ['Rage Against The Machine']   \n",
       "3  2eia0myWFgoHuttJytCxgX  ['Rage Against The Machine']   \n",
       "4  2eia0myWFgoHuttJytCxgX  ['Rage Against The Machine']   \n",
       "\n",
       "                   artist_ids  track_number  disc_number explicit  \\\n",
       "0  ['2d0hyoQ5ynDBnkvAbJKORj']             8            1    False   \n",
       "1  ['2d0hyoQ5ynDBnkvAbJKORj']             9            1    False   \n",
       "2  ['2d0hyoQ5ynDBnkvAbJKORj']             6            1    False   \n",
       "3  ['2d0hyoQ5ynDBnkvAbJKORj']            11            1     True   \n",
       "4  ['2d0hyoQ5ynDBnkvAbJKORj']            12            1    False   \n",
       "\n",
       "   danceability  ...  speechiness  acousticness  instrumentalness  liveness  \\\n",
       "0         0.277  ...       0.0883       0.00694          0.000054    0.1880   \n",
       "1         0.441  ...       0.0440       0.01950          0.006840    0.1500   \n",
       "2         0.298  ...       0.0727       0.05380          0.001520    0.2010   \n",
       "3         0.456  ...       0.0982       0.00520          0.000004    0.0595   \n",
       "4         0.399  ...       0.1430       0.00442          0.031400    0.3670   \n",
       "\n",
       "   valence    tempo  duration_ms  time_signature  year  release_date  \n",
       "0    0.618  172.848       228093             4.0  1999    1999-11-02  \n",
       "1    0.418   83.371       151573             4.0  1999    1999-11-02  \n",
       "2    0.194  148.282       280960             4.0  1999    1999-11-02  \n",
       "3    0.656  140.629       277267             4.0  1999    1999-11-02  \n",
       "4    0.174   98.464       216427             4.0  1999    1999-11-02  \n",
       "\n",
       "[5 rows x 24 columns]"
      ]
     },
     "execution_count": 3,
     "metadata": {},
     "output_type": "execute_result"
    }
   ],
   "source": [
    "data_df.head()\n",
    "\n"
   ]
  },
  {
   "cell_type": "code",
   "execution_count": 4,
   "id": "2478acd1",
   "metadata": {},
   "outputs": [],
   "source": [
    "data_df = data_df.drop([\"album_id\",\"track_number\", \"disc_number\", \"time_signature\"], axis = 1)\n",
    "data_df = data_df.dropna()\n"
   ]
  },
  {
   "cell_type": "code",
   "execution_count": 5,
   "id": "396971c0",
   "metadata": {},
   "outputs": [],
   "source": [
    "#Focus on data from 1980s onwards\n",
    "data_df = data_df[data_df.year>1979]\n",
    "\n"
   ]
  },
  {
   "cell_type": "code",
   "execution_count": 6,
   "id": "d1689720",
   "metadata": {},
   "outputs": [
    {
     "data": {
      "text/plain": [
       "Index(['id', 'name', 'album', 'artists', 'artist_ids', 'explicit',\n",
       "       'danceability', 'energy', 'key', 'loudness', 'mode', 'speechiness',\n",
       "       'acousticness', 'instrumentalness', 'liveness', 'valence', 'tempo',\n",
       "       'duration_ms', 'year', 'release_date'],\n",
       "      dtype='object')"
      ]
     },
     "execution_count": 6,
     "metadata": {},
     "output_type": "execute_result"
    }
   ],
   "source": [
    "data_df.columns\n",
    "\n"
   ]
  },
  {
   "cell_type": "code",
   "execution_count": 7,
   "id": "f5fe0abe",
   "metadata": {},
   "outputs": [
    {
     "name": "stdout",
     "output_type": "stream",
     "text": [
      "<class 'pandas.core.frame.DataFrame'>\n",
      "Int64Index: 1173210 entries, 0 to 1204024\n",
      "Data columns (total 20 columns):\n",
      " #   Column            Non-Null Count    Dtype  \n",
      "---  ------            --------------    -----  \n",
      " 0   id                1173210 non-null  object \n",
      " 1   name              1173210 non-null  object \n",
      " 2   album             1173210 non-null  object \n",
      " 3   artists           1173210 non-null  object \n",
      " 4   artist_ids        1173210 non-null  object \n",
      " 5   explicit          1173210 non-null  object \n",
      " 6   danceability      1173210 non-null  float64\n",
      " 7   energy            1173210 non-null  float64\n",
      " 8   key               1173210 non-null  int64  \n",
      " 9   loudness          1173210 non-null  float64\n",
      " 10  mode              1173210 non-null  int64  \n",
      " 11  speechiness       1173210 non-null  float64\n",
      " 12  acousticness      1173210 non-null  float64\n",
      " 13  instrumentalness  1173210 non-null  float64\n",
      " 14  liveness          1173210 non-null  float64\n",
      " 15  valence           1173210 non-null  float64\n",
      " 16  tempo             1173210 non-null  float64\n",
      " 17  duration_ms       1173210 non-null  int64  \n",
      " 18  year              1173210 non-null  int64  \n",
      " 19  release_date      1173210 non-null  object \n",
      "dtypes: float64(9), int64(4), object(7)\n",
      "memory usage: 188.0+ MB\n"
     ]
    }
   ],
   "source": [
    "data_df.info()\n",
    "\n"
   ]
  },
  {
   "cell_type": "code",
   "execution_count": null,
   "id": "742938ec",
   "metadata": {},
   "outputs": [],
   "source": [
    "###Note: To be run after app is complete!!!\n",
    "\n",
    "#Add new features in chunks: \n",
    "l, chunk_size, itr = len(data_df), 3000, 0\n",
    "start, end = 0, chunk_size-1\n",
    "data_extended = pd.DataFrame()\n",
    "\n",
    "while itr<(l//chunk_size + 1): \n",
    "    print(itr)\n",
    "    data_chunk = data_df.loc[start:end]\n",
    "    data_chunk = data_chunk.apply(ed.add_features, axis=1)\n",
    "    data_extended = data_extended.append(data_chunk)\n",
    "    \n",
    "    if l-(end+1)<chunk_size:\n",
    "        start, end = start+chunk_size, l\n",
    "    else:\n",
    "        start, end = start+chunk_size, end+chunk_size\n",
    "      \n",
    "    itr=itr+1\n",
    "    \n",
    "    "
   ]
  },
  {
   "cell_type": "markdown",
   "id": "090cf86b",
   "metadata": {},
   "source": [
    "### EDA"
   ]
  },
  {
   "cell_type": "code",
   "execution_count": null,
   "id": "030ccfed",
   "metadata": {},
   "outputs": [],
   "source": [
    "data_df.corr()\n",
    "\n"
   ]
  },
  {
   "cell_type": "markdown",
   "id": "93dcf158",
   "metadata": {},
   "source": [
    "### Save final processed data"
   ]
  },
  {
   "cell_type": "code",
   "execution_count": 8,
   "id": "66f1c074",
   "metadata": {},
   "outputs": [],
   "source": [
    "#Pickle final processed dataframe\n",
    "\n",
    "data_df.to_csv('processed_data.csv',index=False)   \n",
    "pkl.dump(data_df, open(\"processed_df.pkl\" ,\"wb\"))\n",
    "\n"
   ]
  }
 ],
 "metadata": {
  "kernelspec": {
   "display_name": "Python 3 (engineering)",
   "language": "python",
   "name": "engineering"
  },
  "language_info": {
   "codemirror_mode": {
    "name": "ipython",
    "version": 3
   },
   "file_extension": ".py",
   "mimetype": "text/x-python",
   "name": "python",
   "nbconvert_exporter": "python",
   "pygments_lexer": "ipython3",
   "version": "3.9.12"
  }
 },
 "nbformat": 4,
 "nbformat_minor": 5
}
